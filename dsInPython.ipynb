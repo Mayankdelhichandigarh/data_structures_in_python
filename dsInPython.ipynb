{
 "cells": [
  {
   "cell_type": "markdown",
   "metadata": {},
   "source": [
    "## Assignment: Data Structures in Python"
   ]
  },
  {
   "cell_type": "code",
   "execution_count": 58,
   "metadata": {},
   "outputs": [
    {
     "name": "stdout",
     "output_type": "stream",
     "text": [
      "rahul\n"
     ]
    }
   ],
   "source": [
    "# 1. write a code to reverse a string.\n",
    "\n",
    "#code\n",
    "s = input(\"Enter a string you want to reverse\")\n",
    "lengthOfString = len(s)\n",
    "\n",
    "if(lengthOfString==0):\n",
    "    print(\"Enter a valid string\")\n",
    "\n",
    "if(lengthOfString==1):\n",
    "    print(\"No more character to replace it with, so Reversed string remains same\")\n",
    "\n",
    "i = lengthOfString-1\n",
    "reversed_str = \"\"\n",
    "\n",
    "while(i>=0):\n",
    "    reversed_str += s[i]\n",
    "    i -= 1\n",
    "\n",
    "print(reversed_str)\n",
    "\n",
    "\n",
    "# insights:\n",
    "\n",
    "# I placed a pointer at the last index of input string and add characters from the last to the begining of string to the reversed string variable.\n",
    "\n",
    "# This is my approach to solve this question."
   ]
  },
  {
   "cell_type": "code",
   "execution_count": 59,
   "metadata": {},
   "outputs": [
    {
     "name": "stdout",
     "output_type": "stream",
     "text": [
      "mayank\n",
      "2 vowels present in a string\n"
     ]
    }
   ],
   "source": [
    "# 2. write a code to count the number of vowels in a string.\n",
    "\n",
    "#code\n",
    "s = input(\"Enter a String\")\n",
    "s = s.lower()\n",
    "print(s)\n",
    "\n",
    "lengthOfString = len(s)\n",
    "\n",
    "if(lengthOfString==0):\n",
    "    print(\"Enter a valid string\")\n",
    "\n",
    "count=0\n",
    "for i in range(0, lengthOfString, 1):\n",
    "    if(s[i]=='a' or s[i]=='e' or s[i]=='i' or s[i]=='o' or s[i]=='u'):\n",
    "        count += 1\n",
    "\n",
    "if(count>0):\n",
    "    print(f\"{count} vowels present in a string\")\n",
    "\n",
    "# insights:\n",
    "\n",
    "# I check character by character from index 0 to last index of a string.\n",
    "# If character is a vowel then increament count variable by 1.\n",
    "# At last print count which represents number of vowel in a string.\n",
    "\n",
    "# This is my approach to solve this question  "
   ]
  },
  {
   "cell_type": "code",
   "execution_count": 87,
   "metadata": {},
   "outputs": [
    {
     "name": "stdout",
     "output_type": "stream",
     "text": [
      "Yes, given string is palindrome\n"
     ]
    }
   ],
   "source": [
    "# 3. write a code to check if a given string is a palindrome or not.\n",
    "\n",
    "#code\n",
    "s = input(\"Enter a String\")\n",
    "s = s.lower()\n",
    "\n",
    "if(s[0:] == s[::-1]):\n",
    "    print(\"Yes, given string is palindrome\")\n",
    "else:\n",
    "    print(\"No, given string is not palindrome\")\n",
    "\n",
    "# insights:\n",
    "\n",
    "# If the string remains same when the string get reversed then the string is known as palindrome string.\n",
    "# so, I compare both string and reversed string. If they are both same then print YES else NO.\n",
    "\n",
    "# This is my approach to solve this question.\n"
   ]
  },
  {
   "cell_type": "code",
   "execution_count": 102,
   "metadata": {},
   "outputs": [
    {
     "name": "stdout",
     "output_type": "stream",
     "text": [
      "YES, Both the strings are anagrams of each other\n"
     ]
    }
   ],
   "source": [
    "# 4. write a code to check if two given strings are anagrams of each other.\n",
    "\n",
    "#code\n",
    "s1 = input(\"Enter a first String\")\n",
    "s2 = input(\"Enter a second String\")\n",
    "if(sorted(s1) == sorted(s2)):\n",
    "    print(\"YES, Both the strings are anagrams of each other\")\n",
    "else:\n",
    "    print(\"NO, Both the strings are not the anagrams of each other\")\n",
    "\n",
    "# insights:\n",
    "\n",
    "# I sort both the strings and compare both lists.\n",
    "# if the result is true than print YES else NO.\n",
    "\n",
    "# This is my approach to solve this question.\n"
   ]
  },
  {
   "cell_type": "code",
   "execution_count": 104,
   "metadata": {},
   "outputs": [
    {
     "name": "stdout",
     "output_type": "stream",
     "text": [
      "No, This substring is not Present in the main string\n"
     ]
    }
   ],
   "source": [
    "# 5. write a code to find all occurrences of a given substring within another string.\n",
    "\n",
    "#code\n",
    "main_string = input(\"Enter main string\")\n",
    "sub_string = input(\"Enter sub string\")\n",
    "\n",
    "if (sub_string in main_string):\n",
    "    print(\"Yes, This substring is Present in the main string\")\n",
    "else:\n",
    "    print(\"No, This substring is not Present in the main string\")\n",
    "\n",
    "# insights:\n",
    "\n",
    "# I checkd if the substring is present in main string than print YES else NOT"
   ]
  },
  {
   "cell_type": "code",
   "execution_count": 122,
   "metadata": {},
   "outputs": [
    {
     "name": "stdout",
     "output_type": "stream",
     "text": [
      "a3b2\n"
     ]
    }
   ],
   "source": [
    "# 6. write a code to perform basic string compression using the count of repeated characters.\n",
    "\n",
    "#code\n",
    "s = input(\"Enter your string\")\n",
    "\n",
    "if(len(s)==0):\n",
    "    print(\"Enter a Valid String\")\n",
    "else:\n",
    "    compressed = []\n",
    "    count = 1\n",
    "\n",
    "    for i in range(1, len(s)):\n",
    "        if(s[i] == s[i-1]):\n",
    "            count += 1\n",
    "        else:\n",
    "            compressed.append(s[i-1]+str(count))\n",
    "            count=1\n",
    "\n",
    "    compressed.append(s[-1]+str(count))\n",
    "\n",
    "    ans = \"\".join(compressed)\n",
    "    print(ans)\n",
    "\n",
    "# insights:\n",
    "\n",
    "# This question is quite tricky.\n",
    "# It also helps me to understand the concept of loop, if, else in detail"
   ]
  },
  {
   "cell_type": "code",
   "execution_count": 147,
   "metadata": {},
   "outputs": [
    {
     "name": "stdout",
     "output_type": "stream",
     "text": [
      "Enter a Valid String\n",
      "Yes, String consists of all unique characters\n"
     ]
    }
   ],
   "source": [
    "# 7. write a code to determine if a string has all unique characters.\n",
    "\n",
    "#code\n",
    "s = input(\"Enter your string\")\n",
    "if(len(s)<=0):\n",
    "    print(\"Enter a Valid String\")\n",
    "\n",
    "helperSet = set()\n",
    "flag = True\n",
    "for i in range(0, len(s), 1):\n",
    "    if(s[i] in helperSet):\n",
    "        flag = False\n",
    "        break\n",
    "    else:\n",
    "        helperSet.add(s[i])\n",
    "\n",
    "if(flag):\n",
    "    print(\"Yes, String consists of all unique characters\")\n",
    "else:\n",
    "    print(\"No, String does not consists of all unique characters\")\n",
    "\n",
    "# insights:\n",
    "\n",
    "# This question cleared some concepts of sets\n",
    "# This question cleared some concepts of strings as well\n",
    "# This question also cleared the definition of sets"
   ]
  },
  {
   "cell_type": "code",
   "execution_count": 149,
   "metadata": {},
   "outputs": [
    {
     "name": "stdout",
     "output_type": "stream",
     "text": [
      "MAYANK: converted in uppercase\n",
      "mayank: converted in lowercase\n"
     ]
    }
   ],
   "source": [
    "# 8. write a code to convert a given string to uppercase or lowercase.\n",
    "\n",
    "#code\n",
    "s = input(\"Enter a String you want to convert into upper and lowercase\")\n",
    "\n",
    "if(len(s)==0):\n",
    "    print(\"Enter a valid string to convert\")\n",
    "else:\n",
    "    uppercase = s.upper()\n",
    "    lowercase = s.lower()\n",
    "    print(f\"{uppercase}: converted in uppercase\")\n",
    "    print(f\"{lowercase}: converted in lowercase\")\n",
    "\n",
    "# insights:\n",
    "\n",
    "# This question gives a brief understand of upper() and lower()\n",
    "# with the help of these inbuilt functions i solved this question    "
   ]
  },
  {
   "cell_type": "code",
   "execution_count": 164,
   "metadata": {},
   "outputs": [
    {
     "name": "stdout",
     "output_type": "stream",
     "text": [
      "4 words present in a string\n"
     ]
    }
   ],
   "source": [
    "# 9. write a code to count the number of words in a string.\n",
    "\n",
    "#code\n",
    "s = input(\"Enter your string\")\n",
    "if(len(s)<=0):\n",
    "    print(\"Enter a valid string\")\n",
    "else:\n",
    "    s = s.strip()\n",
    "    list = s.split(\" \")\n",
    "    print(f\"{len(list)} words present in a string\")\n",
    "\n",
    "# insights:\n",
    "\n",
    "# Learn about inbuilt functions like strip(), split() and explore the uses of these functions.\n",
    "# First, i split the string on spaces.\n",
    "# Then i count the length of list which tells me about the number of words in a string."
   ]
  },
  {
   "cell_type": "code",
   "execution_count": 166,
   "metadata": {},
   "outputs": [
    {
     "name": "stdout",
     "output_type": "stream",
     "text": [
      "Hello Mayank Kapoor\n"
     ]
    }
   ],
   "source": [
    "# 10. write a code to concatenate two strings without using the + operator.\n",
    "\n",
    "#code\n",
    "string1 = input(\"Enter the first string\")\n",
    "string2 = input(\"Enter the second string\")\n",
    "\n",
    "print(f\"{string1} {string2}\")\n",
    "\n",
    "# insights: \n",
    "\n",
    "# This method helps me to explore that how can i concatenate two strings without using + operator.\n"
   ]
  },
  {
   "cell_type": "code",
   "execution_count": 174,
   "metadata": {},
   "outputs": [
    {
     "name": "stdout",
     "output_type": "stream",
     "text": [
      "banana cherry Litchi "
     ]
    }
   ],
   "source": [
    "# 11. write a code to remove all occurrences of a specific element from a list.\n",
    "\n",
    "#code\n",
    "fruitBag = [\"apple\", \"banana\", \"cherry\", \"apple\", \"Litchi\"]\n",
    "removeFruit = input(\"Enter a name of fruit from the list to remove it\")\n",
    "\n",
    "resultList = []\n",
    "for i in range(0, len(fruitBag), 1):\n",
    "    if(fruitBag[i] == removeFruit):\n",
    "        continue\n",
    "    else:\n",
    "        resultList.append(fruitBag[i])\n",
    "\n",
    "for item in resultList:\n",
    "    print(item, end=\" \")\n",
    "\n",
    "# insights:\n",
    "\n",
    "# First, i make an empty list.\n",
    "# Then, i check for every item in a list. If, fruit present in a bag then i did not append it in my new list.\n",
    "# At last i print new list "
   ]
  },
  {
   "cell_type": "code",
   "execution_count": 200,
   "metadata": {},
   "outputs": [
    {
     "name": "stdout",
     "output_type": "stream",
     "text": [
      "70\n"
     ]
    }
   ],
   "source": [
    "# 12. Implement a code to find the second largest number in a given list of integers. \n",
    " \n",
    "#code\n",
    "size = int(input(\"Enter the size of list\"))\n",
    "numbers = []\n",
    "\n",
    "for i in range(0, size):\n",
    "    num = int(input(\"enter your numbers\"))\n",
    "    numbers.append(num)\n",
    "\n",
    "if(numbers):\n",
    "    max_value = second_max = float('-inf')\n",
    "\n",
    "for i in range(0, len(numbers), 1):\n",
    "    if(numbers[i]>max_value):\n",
    "        second_max = max_value\n",
    "        max_value = numbers[i]\n",
    "    elif(numbers[i]>second_max and numbers[i]<max_value):\n",
    "        second_max = numbers[i]\n",
    "\n",
    "print(second_max)\n",
    "\n",
    "# insights:\n",
    "\n",
    "# This is a Tricky question, and also helps me to clear the concept of algorithm to write a code.\n",
    "# with the help of this code we also able to find the largest number in the list too.\n",
    "# deep understanding of conditions as well.\n"
   ]
  },
  {
   "cell_type": "code",
   "execution_count": 204,
   "metadata": {},
   "outputs": [
    {
     "data": {
      "text/plain": [
       "{'apple': 2, 'banana': 2, 'cherry': 3, 'date': 1}"
      ]
     },
     "execution_count": 204,
     "metadata": {},
     "output_type": "execute_result"
    }
   ],
   "source": [
    "# 13. create a code to count the occurrences of each element in a list and return a dictionary with elements as keys and their counts as values.\n",
    "\n",
    "#code\n",
    "elements = [\"apple\", \"banana\", \"apple\", \"cherry\", \"banana\", \"date\", \"cherry\", \"cherry\"] \n",
    "\n",
    "count_dict = {}\n",
    "for element in elements:\n",
    "    if(element in count_dict):\n",
    "        count_dict[element] += 1\n",
    "    else:\n",
    "        count_dict[element] = 1\n",
    "\n",
    "count_dict\n",
    "\n",
    "# insights:\n",
    "\n",
    "# It gives a better understanding of dctionary as well as its keys and values\n"
   ]
  },
  {
   "cell_type": "code",
   "execution_count": 213,
   "metadata": {},
   "outputs": [
    {
     "name": "stdout",
     "output_type": "stream",
     "text": [
      "10 9 8 7 6 5 4 3 2 1 "
     ]
    }
   ],
   "source": [
    "# 14. write a code to reverse a list in-place without using any built-in reverse functions. \n",
    "\n",
    "#code\n",
    "my_list = [1,2,3,4,5,6,7,8,9,10]\n",
    "left = 0\n",
    "right = len(my_list)-1\n",
    "\n",
    "while(left<right):\n",
    "    temp = my_list[left]\n",
    "    my_list[left] = my_list[right]\n",
    "    my_list[right] = temp\n",
    "    left += 1\n",
    "    right -= 1\n",
    "\n",
    "for i in my_list:\n",
    "    print(i, end=\" \")\n",
    "\n",
    "# insights:\n",
    "\n",
    "# This code helps me to explore the idea of swaping the elements in the list.\n",
    "# Clear the concept of list, loops, etc."
   ]
  },
  {
   "cell_type": "code",
   "execution_count": 215,
   "metadata": {},
   "outputs": [
    {
     "name": "stdout",
     "output_type": "stream",
     "text": [
      "[2, 5, 6, 1]\n"
     ]
    }
   ],
   "source": [
    "# 15. implement a code to find and remove duplicates from a list while preserving the original order of elements.\n",
    "\n",
    "#code\n",
    "my_list = [2, 2, 5, 6, 1, 2, 5]\n",
    "result = []\n",
    "\n",
    "seen = set()\n",
    "\n",
    "for i in my_list:\n",
    "    if(i not in seen):\n",
    "        seen.add(i)\n",
    "        result.append(i)\n",
    "\n",
    "print(result)\n",
    "\n",
    "# insights:\n",
    "\n",
    "# improve the logic and concept of sets, list\n",
    "# improving the uses of functions as well"
   ]
  },
  {
   "cell_type": "code",
   "execution_count": 7,
   "metadata": {},
   "outputs": [
    {
     "name": "stdout",
     "output_type": "stream",
     "text": [
      "List is sorted in descending order\n"
     ]
    }
   ],
   "source": [
    "# 16. create a code to check if a given list is sorted (either in ascending or descending order) or not.\n",
    "\n",
    "#code \n",
    "size = int(input(\"Enter the size of the list\"))\n",
    "inp_list = []\n",
    "\n",
    "for i in range(size):\n",
    "    num = int(input(\"Enter your numbers\"))\n",
    "    inp_list.append(num)\n",
    "\n",
    "if(inp_list == sorted(inp_list)):\n",
    "    print(\"List is sorted in ascending order\")\n",
    "elif(inp_list == sorted(inp_list, reverse=True)):\n",
    "    print(\"List is sorted in descending order\")\n",
    "else:\n",
    "    print(\"List is not sorted\")\n",
    "\n",
    "# insights:\n",
    "\n",
    "# In this approach i learn about the reverse=True function which converts the list in descending order.\n",
    "# Also learn to use the nested if, elif, else in efficient way.\n"
   ]
  },
  {
   "cell_type": "code",
   "execution_count": 3,
   "metadata": {},
   "outputs": [
    {
     "data": {
      "text/plain": [
       "[1, 2, 3, 4, 5, 6, 7, 8, 9, 10, 11, 20]"
      ]
     },
     "execution_count": 3,
     "metadata": {},
     "output_type": "execute_result"
    }
   ],
   "source": [
    "# 17. write a code to merge two sorted lists into a single sorted list.\n",
    "\n",
    "#code\n",
    "list1 = [1, 3, 5, 7, 9, 11]\n",
    "list2 = [2, 4, 6, 8, 10, 20]\n",
    "\n",
    "list3 = []\n",
    "\n",
    "i = 0\n",
    "j = 0\n",
    "while(i<len(list1) and j<len(list2)):\n",
    "    if(list1[i]<list2[j]):\n",
    "        list3.append(list1[i])\n",
    "        i += 1\n",
    "    elif(list1[i]>list2[j]):\n",
    "        list3.append(list2[j])\n",
    "        j += 1\n",
    "    else:\n",
    "        list3.append(list1[i])\n",
    "        list3.append(list2[j])\n",
    "        i += 1\n",
    "        j += 1\n",
    "\n",
    "while(i<len(list1)):\n",
    "        list3.append(list1[i])\n",
    "        i += 1\n",
    "\n",
    "while(j<len(list2)):\n",
    "        list3.append(list2[j])\n",
    "        j += 1\n",
    "\n",
    "list3\n",
    "\n",
    "# insights:\n",
    "\n",
    "# Gives me more deep understanding of loops and list."
   ]
  },
  {
   "cell_type": "code",
   "execution_count": 10,
   "metadata": {},
   "outputs": [
    {
     "data": {
      "text/plain": [
       "[4, 5]"
      ]
     },
     "execution_count": 10,
     "metadata": {},
     "output_type": "execute_result"
    }
   ],
   "source": [
    "# 18. Implement a code to find the intersection of two given lists.\n",
    "\n",
    "#code\n",
    "list1 = [1, 2, 3, 4, 5]\n",
    "list2 = [4, 5, 6, 7, 8] \n",
    "\n",
    "list3 = list(set(list1) & set(list2))\n",
    "list3\n",
    "\n",
    "# insights:\n",
    "\n",
    "# Here i learn that we have to convert list into set to perform mathematical operations.\n",
    "# Learn to use of & operator."
   ]
  },
  {
   "cell_type": "code",
   "execution_count": 11,
   "metadata": {},
   "outputs": [
    {
     "data": {
      "text/plain": [
       "[1, 2, 3, 4, 5, 6, 7, 8]"
      ]
     },
     "execution_count": 11,
     "metadata": {},
     "output_type": "execute_result"
    }
   ],
   "source": [
    "# 19. Create a code to find the union of two lists without duplicates.\n",
    "\n",
    "#code \n",
    "list1 = [1, 2, 3, 4, 5]\n",
    "list2 = [4, 5, 6, 7, 8] \n",
    "\n",
    "list3 = list(set(list1) | set(list2))\n",
    "list3\n",
    "\n",
    "# insights:\n",
    "\n",
    "# Here i learn that we have to convert list into set to perform mathematical operations.\n",
    "# Learn to use of | operator."
   ]
  },
  {
   "cell_type": "code",
   "execution_count": 15,
   "metadata": {},
   "outputs": [
    {
     "data": {
      "text/plain": [
       "[5, 3, 4, 1, 2]"
      ]
     },
     "execution_count": 15,
     "metadata": {},
     "output_type": "execute_result"
    }
   ],
   "source": [
    "# 20. Write a code to shuffle a given list randomly without using any built-in shuffle functions.\n",
    "\n",
    "#code\n",
    "import random\n",
    "list1 = [1, 2, 3, 4, 5]\n",
    "\n",
    "for i in range(len(list1) - 1, 0, -1):\n",
    "    j = random.randint(0, i)\n",
    "    list1[i], list1[j] = list1[j], list1[i]\n",
    "\n",
    "list1\n",
    "\n",
    "# insights:\n",
    "\n",
    "# Learn about random"
   ]
  },
  {
   "cell_type": "code",
   "execution_count": 22,
   "metadata": {},
   "outputs": [
    {
     "data": {
      "text/plain": [
       "(4, 5)"
      ]
     },
     "execution_count": 22,
     "metadata": {},
     "output_type": "execute_result"
    }
   ],
   "source": [
    "# 21. Write a code that takes two tuples as input and returns a new tuple containing elements that are common to both input tuples.\n",
    "\n",
    "#code\n",
    "tuple1 = (1, 2, 3, 4, 5)\n",
    "tuple2 = (4, 5, 6, 7, 8) \n",
    "\n",
    "result = tuple(set(tuple1) & set(tuple2))\n",
    "result\n",
    "\n",
    "# insights:\n",
    "\n",
    "# Learn about tuples and its properties"
   ]
  },
  {
   "cell_type": "code",
   "execution_count": 24,
   "metadata": {},
   "outputs": [
    {
     "data": {
      "text/plain": [
       "{4, 5}"
      ]
     },
     "execution_count": 24,
     "metadata": {},
     "output_type": "execute_result"
    }
   ],
   "source": [
    "# 22. Create a code that prompts the user to enter two sets of integers separated by commas. Then, print the intersection of these two sets.\n",
    "\n",
    "#code\n",
    "user_input1 = input(\"Enter elements of the set1, separated by commas: \")\n",
    "user_set1 = set(map(int, user_input1.split(\",\")))\n",
    "\n",
    "user_input2 = input(\"Enter elements of the set2, separated by commas: \")\n",
    "user_set2 = set(map(int, user_input2.split(\",\")))\n",
    "\n",
    "result = user_set1 & user_set2\n",
    "result\n",
    "\n",
    "# insights:\n",
    "\n",
    "# This question helps me lot of about how to take user input of sets\n",
    "# Gives me more clear understanding of intersection."
   ]
  },
  {
   "cell_type": "code",
   "execution_count": 29,
   "metadata": {},
   "outputs": [
    {
     "data": {
      "text/plain": [
       "(1, 2, 3, 4, 5, 6, 7, 8, 9, 10)"
      ]
     },
     "execution_count": 29,
     "metadata": {},
     "output_type": "execute_result"
    }
   ],
   "source": [
    "# 23. Write a code to concatenate two tuples. The function should take two tuples as input and return a new tuple containing elements from both input tuples.\n",
    "\n",
    "#code \n",
    "def helper(tuple1, tuple2):\n",
    "    return tuple1+tuple2\n",
    "\n",
    "t1_input = input(\"Enter elements of the tuple1, separated by commas: \")\n",
    "t1 = tuple(map(int,t1_input.split(\",\")))\n",
    "\n",
    "t2_input = input(\"Enter elements of the tuple2, separated by commas: \")\n",
    "t2 = tuple(map(int,t2_input.split(\",\")))\n",
    "\n",
    "ans = helper(t1, t2)\n",
    "ans"
   ]
  },
  {
   "cell_type": "code",
   "execution_count": 31,
   "metadata": {},
   "outputs": [
    {
     "data": {
      "text/plain": [
       "{'banana'}"
      ]
     },
     "execution_count": 31,
     "metadata": {},
     "output_type": "execute_result"
    }
   ],
   "source": [
    "# 24. Develop a code that prompts the user to input two sets of strings. Then, print the elements that are present in the first set but not in the second set.\n",
    "\n",
    "#code \n",
    "def input_set():\n",
    "    user_input = input(\"Enter elements of the set, separated by commas: \")\n",
    "    user_set = set(map(str.strip, user_input.split(\",\")))\n",
    "\n",
    "    return user_set\n",
    "\n",
    "set1 = input_set()\n",
    "set2 = input_set()\n",
    "\n",
    "diff = set1-set2\n",
    "diff"
   ]
  },
  {
   "cell_type": "code",
   "execution_count": 40,
   "metadata": {},
   "outputs": [
    {
     "data": {
      "text/plain": [
       "(1, 2, 3, 4, 5)"
      ]
     },
     "execution_count": 40,
     "metadata": {},
     "output_type": "execute_result"
    }
   ],
   "source": [
    "# 25. Create a code that takes a tuple and two integers as input. The function should return a new tuple containing elements from the original tuple within the specified range of indices.\n",
    "\n",
    "#code\n",
    "def helper(t1, i, j):\n",
    "    if(i<0 or j>len(t1)):\n",
    "        return \"Enter a valid index\"\n",
    "    \n",
    "    t2 = ()\n",
    "\n",
    "    for item in range(i, j):\n",
    "        num = t1[item]\n",
    "        t2 += (num,)\n",
    "\n",
    "    return t2\n",
    "\n",
    "user_input1 = input(\"Enter elements of the tuple, separated by commas: \")\n",
    "user_tuple1 = tuple(map(int, user_input1.split(\",\")))\n",
    "\n",
    "user_input2 = int(input(\"Enter the first index\"))\n",
    "\n",
    "user_input3 = int(input(\"Enter the last index\"))\n",
    "\n",
    "ans = helper(user_tuple1, user_input2, user_input3)\n",
    "ans"
   ]
  },
  {
   "cell_type": "code",
   "execution_count": 50,
   "metadata": {},
   "outputs": [
    {
     "name": "stdout",
     "output_type": "stream",
     "text": [
      "f a d i j c b e "
     ]
    }
   ],
   "source": [
    "# 26. Write a code that prompts the user to input two sets of characters. Then, print the union of these two sets.\n",
    "\n",
    "#code\n",
    "def input_set():\n",
    "    user_input = input(\"Enter elements of the set, separated by commas: \")\n",
    "    user_set = set(map(str.strip, user_input.split(\",\")))\n",
    "\n",
    "    return user_set\n",
    "\n",
    "set1 = input_set()\n",
    "set2 = input_set()\n",
    "\n",
    "set3 = set1 | set2\n",
    "\n",
    "for item in set3:\n",
    "    print(item, end=\" \")"
   ]
  },
  {
   "cell_type": "code",
   "execution_count": 53,
   "metadata": {},
   "outputs": [
    {
     "name": "stdout",
     "output_type": "stream",
     "text": [
      "10 2\n"
     ]
    }
   ],
   "source": [
    "# 27. Develop a code that takes a tuple of integers as input. The function should return the maximum and minimum values from the tuple using tuple unpacking.\n",
    "\n",
    "#code\n",
    "def max_min(t):\n",
    "    max_value = max(t)\n",
    "    min_value = min(t)\n",
    "\n",
    "    return max_value, min_value\n",
    "\n",
    "user_input = input(\"Enter elements of the tuple, separated by commas: \")\n",
    "user_tuple = tuple(map(int, user_input.split(\",\")))\n",
    "\n",
    "max_val, min_val = max_min(user_tuple)\n",
    "\n",
    "print(max_val, min_val)"
   ]
  },
  {
   "cell_type": "code",
   "execution_count": 57,
   "metadata": {},
   "outputs": [
    {
     "name": "stdout",
     "output_type": "stream",
     "text": [
      "Union of both sets are: {1, 2, 3, 4, 5, 6, 7, 8}\n",
      "Intersection of both sets are: {4, 5}\n",
      "Difference of both sets are: {1, 2, 3}\n"
     ]
    }
   ],
   "source": [
    "# 28. Create a code that defines two sets of integers. Then, print the union, intersection, and difference of these two sets.\n",
    "\n",
    "#code\n",
    "def input_set():\n",
    "    user_input = input(\"Enter elements of the set, separated by commas: \")\n",
    "    user_set = set(map(int, user_input.split(\",\")))\n",
    "\n",
    "    return user_set\n",
    "\n",
    "def union(set1, set2):\n",
    "    return set1 | set2\n",
    "\n",
    "def intersection(set1, set2):\n",
    "    return set1 & set2\n",
    "\n",
    "def difference(set1, set2):\n",
    "    return set1 - set2\n",
    "\n",
    "set1 = input_set()\n",
    "set2 = input_set()\n",
    "\n",
    "op_union = union(set1, set2)\n",
    "op_intersection = intersection(set1, set2)\n",
    "op_difference = difference(set1, set2)\n",
    "\n",
    "\n",
    "print(f\"Union of both sets are: {op_union}\")\n",
    "print(f\"Intersection of both sets are: {op_intersection}\")\n",
    "print(f\"Difference of both sets are: {op_difference}\")"
   ]
  },
  {
   "cell_type": "code",
   "execution_count": 58,
   "metadata": {},
   "outputs": [
    {
     "name": "stdout",
     "output_type": "stream",
     "text": [
      "3\n"
     ]
    }
   ],
   "source": [
    "# 29. Write a code that takes a tuple and an element as input. The function should return the count of occurrences of the given element in the tuple.\n",
    "\n",
    "#code\n",
    "user_input = input(\"Enter elements of the tuple, separated by commas: \")\n",
    "user_tuple = tuple(map(int, user_input.split(\",\")))\n",
    "\n",
    "user_element = int(input(\"Enter the value of element\"))\n",
    "count = 0\n",
    "\n",
    "for item in user_tuple:\n",
    "    if(user_element == item):\n",
    "        count += 1\n",
    "\n",
    "print(count)"
   ]
  },
  {
   "cell_type": "code",
   "execution_count": 64,
   "metadata": {},
   "outputs": [
    {
     "name": "stdout",
     "output_type": "stream",
     "text": [
      "The symmetric difference of these two sets are: {'cherry', 'elderberry', 'apple', 'dragonfruit'}\n"
     ]
    }
   ],
   "source": [
    "# 30. Develop a code that prompts the user to input two sets of strings. Then, print the symmetric difference of these two sets.\n",
    "\n",
    "#code \n",
    "def input_set():\n",
    "    user_input = input(\"Enter strings of the set, separated by commas: \")\n",
    "    user_set = set(map(str.strip, user_input.split(\",\")))\n",
    "\n",
    "    return user_set\n",
    "\n",
    "set1 = input_set()\n",
    "set2 = input_set()\n",
    "\n",
    "union_set = set1 | set2\n",
    "intersection_set = set1 & set2\n",
    "\n",
    "print(f\"The symmetric difference of these two sets are: {union_set-intersection_set}\")"
   ]
  },
  {
   "cell_type": "code",
   "execution_count": 67,
   "metadata": {},
   "outputs": [
    {
     "data": {
      "text/plain": [
       "{'apple': 2, 'banana': 2, 'grapes': 1}"
      ]
     },
     "execution_count": 67,
     "metadata": {},
     "output_type": "execute_result"
    }
   ],
   "source": [
    "# 31. Write a code that takes a list of words as input and returns a dictionary where the keys are unique words and the values are the frequencies of those words in the input list.\n",
    "\n",
    "#code \n",
    "user_input = input(\"Enter the words, separated by spaces: \")\n",
    "elements = list(map(str.strip, user_input.split(\" \")))\n",
    "\n",
    "count_dict = {}\n",
    "for element in elements:\n",
    "    if(element in count_dict):\n",
    "        count_dict[element] += 1\n",
    "    else:\n",
    "        count_dict[element] = 1\n",
    "\n",
    "count_dict\n",
    "\n"
   ]
  },
  {
   "cell_type": "code",
   "execution_count": 8,
   "metadata": {},
   "outputs": [
    {
     "data": {
      "text/plain": [
       "{'jan': 20, 'feb': 40, 'mar': 60, 'apr': '40'}"
      ]
     },
     "execution_count": 8,
     "metadata": {},
     "output_type": "execute_result"
    }
   ],
   "source": [
    "# 32. Write a code that takes two dictionaries as input and merges them into a single dictionary. If there are common keys, the values should be added together.\n",
    "\n",
    "#code\n",
    "def merge_dict(d1, d2):\n",
    "\n",
    "    merged = d1.copy()  \n",
    "    for key in d2:\n",
    "        if key in merged:   \n",
    "            merged[key] = int(merged[key]) + int(d2[key])\n",
    "        else:\n",
    "            merged[key] = d2[key]  \n",
    "    return merged\n",
    "\n",
    "d1 = {}\n",
    "d2 = {}\n",
    "\n",
    "size1 = int(input(\"Enter the size of first dict: \"))\n",
    "for i in range(size1):\n",
    "    key = input(\"Enter the key: \")\n",
    "    value = input(\"Enter the value of respective key\")\n",
    "    d1[key] = value\n",
    "\n",
    "size2 = int(input(\"Enter the size of second dict: \"))\n",
    "for i in range(size2):\n",
    "    key = input(\"Enter the key: \")\n",
    "    value = input(\"Enter the value of respective key\")\n",
    "    d2[key] = value\n",
    "\n",
    "mergedDict = merge_dict(d1, d2)\n",
    "mergedDict\n",
    "\n",
    "# insights:\n",
    "\n",
    "# Learn a lot about dictionary.\n",
    "# Explore the logics and various functions of this data structure.\n"
   ]
  },
  {
   "cell_type": "code",
   "execution_count": 10,
   "metadata": {},
   "outputs": [
    {
     "name": "stdout",
     "output_type": "stream",
     "text": [
      "42\n",
      "None\n"
     ]
    }
   ],
   "source": [
    "# 33. Write a code to access a value in a nested dictionary. The function should take the dictionary and a list of keys as input, and return the corresponding value. If any of the keys do not exist in the dictionary, the function should return None.\n",
    "\n",
    "#code\n",
    "def get_nested_value(nested_dict, keys):\n",
    "    current_value = nested_dict\n",
    "    for key in keys:\n",
    "        if isinstance(current_value, dict) and key in current_value:\n",
    "            current_value = current_value[key]\n",
    "        else:\n",
    "            return None  \n",
    "    return current_value\n",
    "\n",
    "nested_dict = {\n",
    "    'a': {\n",
    "        'b': {\n",
    "            'c': 42\n",
    "        }\n",
    "    }\n",
    "}\n",
    "\n",
    "keys = ['a', 'b', 'c']  \n",
    "result = get_nested_value(nested_dict, keys)\n",
    "print(result)  \n",
    "\n",
    "keys_not_exist = ['a', 'x', 'c']  \n",
    "result = get_nested_value(nested_dict, keys_not_exist)\n",
    "print(result)  "
   ]
  },
  {
   "cell_type": "code",
   "execution_count": 20,
   "metadata": {},
   "outputs": [
    {
     "name": "stdout",
     "output_type": "stream",
     "text": [
      "{'mango': 1, 'apple': 5, 'litchi': 10}\n"
     ]
    }
   ],
   "source": [
    "# 34. Write a code that takes a dictionary as input and returns a sorted version of it based on the values. You can choose whether to sort in ascending or descending order.\n",
    "\n",
    "#code\n",
    "def helper(d):\n",
    "    sorted_dict = dict(sorted(d.items(), key = lambda item: item[1], reverse=False)) #deciding line\n",
    "    return sorted_dict\n",
    "\n",
    "d = {}\n",
    "size = int(input(\"Enter the size of dict: \"))\n",
    "\n",
    "for i in range(size):\n",
    "    key = input(\"Enter the key\")\n",
    "    value = int(input(\"Enter the respective value\"))\n",
    "    d[key] = value\n",
    "\n",
    "sorted_dict = helper(d)\n",
    "print(sorted_dict)\n",
    "\n",
    "# insights:\n",
    "\n",
    "# learn ablout lamda, use of lamda, how it works.\n",
    "# if we change the value of reverse into True, Then it will sor in decending order."
   ]
  },
  {
   "cell_type": "code",
   "execution_count": 21,
   "metadata": {},
   "outputs": [
    {
     "name": "stdout",
     "output_type": "stream",
     "text": [
      "{1: ['apple', 'orange'], 2: ['banana', 'pear'], 3: ['grape']}\n"
     ]
    }
   ],
   "source": [
    "# 35. Write a code that inverts a dictionary, swapping keys and values. Ensure that the inverted dictionary correctly handles cases where multiple keys have the same value by storing the keys as a list in the inverted dictionary.\n",
    "\n",
    "def helper(input_dict):\n",
    "    inverted_dict = {}\n",
    "\n",
    "    for key, value in input_dict.items():\n",
    "        if value in inverted_dict:\n",
    "            inverted_dict[value].append(key)\n",
    "        else:\n",
    "            inverted_dict[value] = [key]\n",
    "\n",
    "    return inverted_dict\n",
    "\n",
    "my_dict = {\n",
    "    'apple': 1,\n",
    "    'banana': 2,\n",
    "    'orange': 1,\n",
    "    'grape': 3,\n",
    "    'pear': 2\n",
    "}\n",
    "\n",
    "inverted_dict = helper(my_dict)\n",
    "print(inverted_dict)\n",
    "\n",
    "# insights\n",
    "\n",
    "# Learn a lot about dictionary\n",
    "# Explore functions in dictionary, its uses with different situations."
   ]
  }
 ],
 "metadata": {
  "kernelspec": {
   "display_name": "Python 3",
   "language": "python",
   "name": "python3"
  },
  "language_info": {
   "codemirror_mode": {
    "name": "ipython",
    "version": 3
   },
   "file_extension": ".py",
   "mimetype": "text/x-python",
   "name": "python",
   "nbconvert_exporter": "python",
   "pygments_lexer": "ipython3",
   "version": "3.12.7"
  }
 },
 "nbformat": 4,
 "nbformat_minor": 2
}
